{
 "cells": [
  {
   "cell_type": "code",
   "execution_count": 29,
   "id": "initial_id",
   "metadata": {
    "collapsed": true,
    "ExecuteTime": {
     "end_time": "2024-09-07T20:01:45.238710Z",
     "start_time": "2024-09-07T20:01:45.229594Z"
    }
   },
   "outputs": [],
   "source": [
    "import duckdb"
   ]
  },
  {
   "cell_type": "code",
   "outputs": [
    {
     "data": {
      "text/plain": "<duckdb.duckdb.DuckDBPyConnection at 0x1066fcdf0>"
     },
     "execution_count": 30,
     "metadata": {},
     "output_type": "execute_result"
    }
   ],
   "source": [
    "duckdb.execute(\"CREATE TABLE IF NOT EXISTS streaming AS SELECT * FROM '../../data/spotify/StreamingHistory_music_0.json'\")"
   ],
   "metadata": {
    "collapsed": false,
    "ExecuteTime": {
     "end_time": "2024-09-07T20:01:45.301705Z",
     "start_time": "2024-09-07T20:01:45.241679Z"
    }
   },
   "id": "208be9d54875188c",
   "execution_count": 30
  },
  {
   "cell_type": "code",
   "outputs": [
    {
     "data": {
      "text/plain": "<duckdb.duckdb.DuckDBPyConnection at 0x1066fcdf0>"
     },
     "execution_count": 31,
     "metadata": {},
     "output_type": "execute_result"
    }
   ],
   "source": [
    "# Create artist table, insert all artist and export as CSV\n",
    "duckdb.execute(\"DROP TABLE IF EXISTS artists\")\n",
    "duckdb.execute(\"CREATE TABLE IF NOT EXISTS artists AS SELECT DISTINCT artistName as name FROM streaming\")"
   ],
   "metadata": {
    "collapsed": false,
    "ExecuteTime": {
     "end_time": "2024-09-07T20:01:45.316076Z",
     "start_time": "2024-09-07T20:01:45.303123Z"
    }
   },
   "id": "ae54057fc3d5038",
   "execution_count": 31
  },
  {
   "cell_type": "code",
   "outputs": [
    {
     "data": {
      "text/plain": "<duckdb.duckdb.DuckDBPyConnection at 0x1066fcdf0>"
     },
     "execution_count": 32,
     "metadata": {},
     "output_type": "execute_result"
    }
   ],
   "source": [
    "# Export artists table as CSV\n",
    "duckdb.execute(\"COPY artists TO '../../data/spotify/artists.csv' (DELIMITER ',')\")"
   ],
   "metadata": {
    "collapsed": false,
    "ExecuteTime": {
     "end_time": "2024-09-07T20:01:45.322228Z",
     "start_time": "2024-09-07T20:01:45.317208Z"
    }
   },
   "id": "7dd572101912dfe6",
   "execution_count": 32
  },
  {
   "cell_type": "code",
   "outputs": [
    {
     "data": {
      "text/plain": "<duckdb.duckdb.DuckDBPyConnection at 0x1066fcdf0>"
     },
     "execution_count": 33,
     "metadata": {},
     "output_type": "execute_result"
    }
   ],
   "source": [
    "# Export streaming table as CSV\n",
    "duckdb.execute(\"COPY streaming TO '../../data/spotify/streaming.csv' (DELIMITER ',')\")"
   ],
   "metadata": {
    "collapsed": false,
    "ExecuteTime": {
     "end_time": "2024-09-07T20:01:45.331647Z",
     "start_time": "2024-09-07T20:01:45.324154Z"
    }
   },
   "id": "8be43461b654cf10",
   "execution_count": 33
  },
  {
   "cell_type": "code",
   "outputs": [],
   "source": [],
   "metadata": {
    "collapsed": false,
    "ExecuteTime": {
     "end_time": "2024-09-07T20:01:45.338243Z",
     "start_time": "2024-09-07T20:01:45.333312Z"
    }
   },
   "id": "38c802de58d9d17",
   "execution_count": 33
  }
 ],
 "metadata": {
  "kernelspec": {
   "display_name": "Python 3",
   "language": "python",
   "name": "python3"
  },
  "language_info": {
   "codemirror_mode": {
    "name": "ipython",
    "version": 2
   },
   "file_extension": ".py",
   "mimetype": "text/x-python",
   "name": "python",
   "nbconvert_exporter": "python",
   "pygments_lexer": "ipython2",
   "version": "2.7.6"
  }
 },
 "nbformat": 4,
 "nbformat_minor": 5
}
