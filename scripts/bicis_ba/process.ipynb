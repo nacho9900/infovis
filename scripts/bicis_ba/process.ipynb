{
 "cells": [
  {
   "cell_type": "code",
   "execution_count": 18,
   "id": "initial_id",
   "metadata": {
    "collapsed": true,
    "ExecuteTime": {
     "end_time": "2024-09-02T15:24:20.732456Z",
     "start_time": "2024-09-02T15:24:15.865208Z"
    }
   },
   "outputs": [],
   "source": [
    "import duckdb"
   ]
  },
  {
   "cell_type": "code",
   "outputs": [
    {
     "data": {
      "text/plain": "        Id_recorrido duracion_recorrido fecha_origen_recorrido  \\\n0  20610093BAEcobici                858    2024-02-08 20:58:32   \n1  21419508BAEcobici                512    2024-04-17 08:37:36   \n2  21421689BAEcobici                964    2024-04-17 11:38:10   \n3  21436007BAEcobici                564    2024-04-18 09:25:38   \n4  21286197BAEcobici              1,145    2024-04-05 19:56:39   \n5  20504774BAEcobici              1,593    2024-01-30 02:38:38   \n6  21162330BAEcobici              1,614    2024-03-26 01:20:40   \n7  21886942BAEcobici                768    2024-05-30 18:19:37   \n8  21153643BAEcobici              1,115    2024-03-25 15:23:42   \n9  21059870BAEcobici                732    2024-03-18 06:49:29   \n\n  id_estacion_origen                 nombre_estacion_origen  \\\n0       516BAEcobici                 368 - PLAZA DE LA SHOÁ   \n1       252BAEcobici                       331 - CALIFORNIA   \n2       277BAEcobici                    292 - PLAZA BOLIVIA   \n3        66BAEcobici                     066 - Billinghurst   \n4       202BAEcobici              001 - FACULTAD DE DERECHO   \n5       478BAEcobici                         015 - AMENABAR   \n6       524BAEcobici                      338 - AV. CABILDO   \n7       165BAEcobici  165 - PLAZA MONSEÑOR MIGUEL DE ANDREA   \n8       316BAEcobici                       205 - SAN MARTIN   \n9       132BAEcobici                       132 - CORRIENTES   \n\n                          direccion_estacion_origen  long_estacion_origen  \\\n0                           Av. Del Libertador 3899            -58.423347   \n1                  California 1774 y General Hornos            -58.374336   \n2                  Olleros Av. & Del Libertador Av.            -58.436115   \n3                                      3508 Carcova            -58.413871   \n4                   Av. Pres. Figueroa Alcorta 2120            -58.390602   \n5                               Teodoro García 2613            -58.447524   \n6                                  Av. Cabildo 2586            -58.460703   \n7  Dr Tomas Manuel De  Anchorena &  Jose A. Cabrera            -58.407614   \n8                                  1471 Cucha Cucha            -58.453475   \n9                      Reconquista & Corrientes Av.            -58.372763   \n\n   lat_estacion_origen fecha_destino_recorrido id_estacion_destino  \\\n0           -34.570998     2024-02-08 21:12:50        308BAEcobici   \n1           -34.647121     2024-04-17 08:46:08         73BAEcobici   \n2           -34.563539     2024-04-17 11:54:14        322BAEcobici   \n3           -34.594547     2024-04-18 09:35:02        124BAEcobici   \n4           -34.583749     2024-04-05 20:15:44        128BAEcobici   \n5           -34.572056     2024-01-30 03:05:11        384BAEcobici   \n6           -34.557933     2024-03-26 01:47:34        524BAEcobici   \n7           -34.597048     2024-05-30 18:32:25         99BAEcobici   \n8           -34.605567     2024-03-25 15:42:17        281BAEcobici   \n9           -34.603369     2024-03-18 07:01:41        228BAEcobici   \n\n    nombre_estacion_destino                  direccion_estacion_destino  \\\n0  251 - Solar de la Abadía                                  Maure 1819   \n1  073 - Ruy Díaz de Guzmán  Avenida Martin Garcia y Ruy Díaz de Guzmán   \n2          289 - MONTAÑESES                             2786 Montañeses   \n3           124 - UGARTECHE                              3050 Ugarteche   \n4     128 - PARQUE DEL BAJO           Tte. Gral. Juan Domingo Perón 133   \n5  267 - Plaza 25 De Agosto                         14 de julio de 1194   \n6         338 - AV. CABILDO                            Av. Cabildo 2586   \n7             099 - Malabia                        780 Malabia & Loyola   \n8       350 - Plaza Irlanda                              Av. Gaona 2200   \n9          010 - Madero UCA            1600 Moreau De Justo, Alicia Av.   \n\n   long_estacion_destino  lat_estacion_destino        id_usuario  \\\n0             -58.436752            -34.567633    85441BAEcobici   \n1             -58.371823            -34.630681   512851BAEcobici   \n2             -58.454181            -34.551304    27717BAEcobici   \n3             -58.411965            -34.580538   870951BAEcobici   \n4             -58.368821            -34.605152    23367BAEcobici   \n5             -58.461835            -34.579519   796520BAEcobici   \n6             -58.460703            -34.557933   796520BAEcobici   \n7             -58.435408            -34.596096    70653BAEcobici   \n8             -58.458315            -34.613778  1084074BAEcobici   \n9             -58.365668            -34.616488   831544BAEcobici   \n\n  modelo_bicicleta  género  \n0           ICONIC    MALE  \n1           ICONIC    MALE  \n2           ICONIC  FEMALE  \n3           ICONIC    MALE  \n4           ICONIC    None  \n5           ICONIC  FEMALE  \n6           ICONIC  FEMALE  \n7           ICONIC  FEMALE  \n8           ICONIC  FEMALE  \n9           ICONIC    MALE  ",
      "text/html": "<div>\n<style scoped>\n    .dataframe tbody tr th:only-of-type {\n        vertical-align: middle;\n    }\n\n    .dataframe tbody tr th {\n        vertical-align: top;\n    }\n\n    .dataframe thead th {\n        text-align: right;\n    }\n</style>\n<table border=\"1\" class=\"dataframe\">\n  <thead>\n    <tr style=\"text-align: right;\">\n      <th></th>\n      <th>Id_recorrido</th>\n      <th>duracion_recorrido</th>\n      <th>fecha_origen_recorrido</th>\n      <th>id_estacion_origen</th>\n      <th>nombre_estacion_origen</th>\n      <th>direccion_estacion_origen</th>\n      <th>long_estacion_origen</th>\n      <th>lat_estacion_origen</th>\n      <th>fecha_destino_recorrido</th>\n      <th>id_estacion_destino</th>\n      <th>nombre_estacion_destino</th>\n      <th>direccion_estacion_destino</th>\n      <th>long_estacion_destino</th>\n      <th>lat_estacion_destino</th>\n      <th>id_usuario</th>\n      <th>modelo_bicicleta</th>\n      <th>género</th>\n    </tr>\n  </thead>\n  <tbody>\n    <tr>\n      <th>0</th>\n      <td>20610093BAEcobici</td>\n      <td>858</td>\n      <td>2024-02-08 20:58:32</td>\n      <td>516BAEcobici</td>\n      <td>368 - PLAZA DE LA SHOÁ</td>\n      <td>Av. Del Libertador 3899</td>\n      <td>-58.423347</td>\n      <td>-34.570998</td>\n      <td>2024-02-08 21:12:50</td>\n      <td>308BAEcobici</td>\n      <td>251 - Solar de la Abadía</td>\n      <td>Maure 1819</td>\n      <td>-58.436752</td>\n      <td>-34.567633</td>\n      <td>85441BAEcobici</td>\n      <td>ICONIC</td>\n      <td>MALE</td>\n    </tr>\n    <tr>\n      <th>1</th>\n      <td>21419508BAEcobici</td>\n      <td>512</td>\n      <td>2024-04-17 08:37:36</td>\n      <td>252BAEcobici</td>\n      <td>331 - CALIFORNIA</td>\n      <td>California 1774 y General Hornos</td>\n      <td>-58.374336</td>\n      <td>-34.647121</td>\n      <td>2024-04-17 08:46:08</td>\n      <td>73BAEcobici</td>\n      <td>073 - Ruy Díaz de Guzmán</td>\n      <td>Avenida Martin Garcia y Ruy Díaz de Guzmán</td>\n      <td>-58.371823</td>\n      <td>-34.630681</td>\n      <td>512851BAEcobici</td>\n      <td>ICONIC</td>\n      <td>MALE</td>\n    </tr>\n    <tr>\n      <th>2</th>\n      <td>21421689BAEcobici</td>\n      <td>964</td>\n      <td>2024-04-17 11:38:10</td>\n      <td>277BAEcobici</td>\n      <td>292 - PLAZA BOLIVIA</td>\n      <td>Olleros Av. &amp; Del Libertador Av.</td>\n      <td>-58.436115</td>\n      <td>-34.563539</td>\n      <td>2024-04-17 11:54:14</td>\n      <td>322BAEcobici</td>\n      <td>289 - MONTAÑESES</td>\n      <td>2786 Montañeses</td>\n      <td>-58.454181</td>\n      <td>-34.551304</td>\n      <td>27717BAEcobici</td>\n      <td>ICONIC</td>\n      <td>FEMALE</td>\n    </tr>\n    <tr>\n      <th>3</th>\n      <td>21436007BAEcobici</td>\n      <td>564</td>\n      <td>2024-04-18 09:25:38</td>\n      <td>66BAEcobici</td>\n      <td>066 - Billinghurst</td>\n      <td>3508 Carcova</td>\n      <td>-58.413871</td>\n      <td>-34.594547</td>\n      <td>2024-04-18 09:35:02</td>\n      <td>124BAEcobici</td>\n      <td>124 - UGARTECHE</td>\n      <td>3050 Ugarteche</td>\n      <td>-58.411965</td>\n      <td>-34.580538</td>\n      <td>870951BAEcobici</td>\n      <td>ICONIC</td>\n      <td>MALE</td>\n    </tr>\n    <tr>\n      <th>4</th>\n      <td>21286197BAEcobici</td>\n      <td>1,145</td>\n      <td>2024-04-05 19:56:39</td>\n      <td>202BAEcobici</td>\n      <td>001 - FACULTAD DE DERECHO</td>\n      <td>Av. Pres. Figueroa Alcorta 2120</td>\n      <td>-58.390602</td>\n      <td>-34.583749</td>\n      <td>2024-04-05 20:15:44</td>\n      <td>128BAEcobici</td>\n      <td>128 - PARQUE DEL BAJO</td>\n      <td>Tte. Gral. Juan Domingo Perón 133</td>\n      <td>-58.368821</td>\n      <td>-34.605152</td>\n      <td>23367BAEcobici</td>\n      <td>ICONIC</td>\n      <td>None</td>\n    </tr>\n    <tr>\n      <th>5</th>\n      <td>20504774BAEcobici</td>\n      <td>1,593</td>\n      <td>2024-01-30 02:38:38</td>\n      <td>478BAEcobici</td>\n      <td>015 - AMENABAR</td>\n      <td>Teodoro García 2613</td>\n      <td>-58.447524</td>\n      <td>-34.572056</td>\n      <td>2024-01-30 03:05:11</td>\n      <td>384BAEcobici</td>\n      <td>267 - Plaza 25 De Agosto</td>\n      <td>14 de julio de 1194</td>\n      <td>-58.461835</td>\n      <td>-34.579519</td>\n      <td>796520BAEcobici</td>\n      <td>ICONIC</td>\n      <td>FEMALE</td>\n    </tr>\n    <tr>\n      <th>6</th>\n      <td>21162330BAEcobici</td>\n      <td>1,614</td>\n      <td>2024-03-26 01:20:40</td>\n      <td>524BAEcobici</td>\n      <td>338 - AV. CABILDO</td>\n      <td>Av. Cabildo 2586</td>\n      <td>-58.460703</td>\n      <td>-34.557933</td>\n      <td>2024-03-26 01:47:34</td>\n      <td>524BAEcobici</td>\n      <td>338 - AV. CABILDO</td>\n      <td>Av. Cabildo 2586</td>\n      <td>-58.460703</td>\n      <td>-34.557933</td>\n      <td>796520BAEcobici</td>\n      <td>ICONIC</td>\n      <td>FEMALE</td>\n    </tr>\n    <tr>\n      <th>7</th>\n      <td>21886942BAEcobici</td>\n      <td>768</td>\n      <td>2024-05-30 18:19:37</td>\n      <td>165BAEcobici</td>\n      <td>165 - PLAZA MONSEÑOR MIGUEL DE ANDREA</td>\n      <td>Dr Tomas Manuel De  Anchorena &amp;  Jose A. Cabrera</td>\n      <td>-58.407614</td>\n      <td>-34.597048</td>\n      <td>2024-05-30 18:32:25</td>\n      <td>99BAEcobici</td>\n      <td>099 - Malabia</td>\n      <td>780 Malabia &amp; Loyola</td>\n      <td>-58.435408</td>\n      <td>-34.596096</td>\n      <td>70653BAEcobici</td>\n      <td>ICONIC</td>\n      <td>FEMALE</td>\n    </tr>\n    <tr>\n      <th>8</th>\n      <td>21153643BAEcobici</td>\n      <td>1,115</td>\n      <td>2024-03-25 15:23:42</td>\n      <td>316BAEcobici</td>\n      <td>205 - SAN MARTIN</td>\n      <td>1471 Cucha Cucha</td>\n      <td>-58.453475</td>\n      <td>-34.605567</td>\n      <td>2024-03-25 15:42:17</td>\n      <td>281BAEcobici</td>\n      <td>350 - Plaza Irlanda</td>\n      <td>Av. Gaona 2200</td>\n      <td>-58.458315</td>\n      <td>-34.613778</td>\n      <td>1084074BAEcobici</td>\n      <td>ICONIC</td>\n      <td>FEMALE</td>\n    </tr>\n    <tr>\n      <th>9</th>\n      <td>21059870BAEcobici</td>\n      <td>732</td>\n      <td>2024-03-18 06:49:29</td>\n      <td>132BAEcobici</td>\n      <td>132 - CORRIENTES</td>\n      <td>Reconquista &amp; Corrientes Av.</td>\n      <td>-58.372763</td>\n      <td>-34.603369</td>\n      <td>2024-03-18 07:01:41</td>\n      <td>228BAEcobici</td>\n      <td>010 - Madero UCA</td>\n      <td>1600 Moreau De Justo, Alicia Av.</td>\n      <td>-58.365668</td>\n      <td>-34.616488</td>\n      <td>831544BAEcobici</td>\n      <td>ICONIC</td>\n      <td>MALE</td>\n    </tr>\n  </tbody>\n</table>\n</div>"
     },
     "execution_count": 25,
     "metadata": {},
     "output_type": "execute_result"
    }
   ],
   "source": [
    "duckdb.execute(\"CREATE TABLE IF NOT EXISTS trips_2024 AS SELECT * FROM '../../data/bicis-ba/trips_2024.csv'\")\n",
    "duckdb.sql(\"SELECT * FROM trips_2024 LIMIT 10\").df()"
   ],
   "metadata": {
    "collapsed": false,
    "ExecuteTime": {
     "end_time": "2024-09-02T15:38:24.927797Z",
     "start_time": "2024-09-02T15:38:24.822111Z"
    }
   },
   "id": "39141b704736444d",
   "execution_count": 25
  },
  {
   "cell_type": "code",
   "outputs": [
    {
     "data": {
      "text/plain": "      id                      nombre    latitud   longitud  \\\n0    121                 121 - YATAY -34.601173 -58.428509   \n1    506       040 - PARQUE SALGUERO -34.569435 -58.399368   \n2    516      368 - PLAZA DE LA SHOÁ -34.570999 -58.423347   \n3    379         390 - De Los Ombues -34.560200 -58.428101   \n4    213               136 - Acevedo -34.599659 -58.442684   \n..   ...                         ...        ...        ...   \n350   63           063 - Reconquista -34.599777 -58.374687   \n351  381               274 - Gavilán -34.616245 -58.465885   \n352  117           117 - HUMBERTO 1° -34.619553 -58.373158   \n353  425          394 - Av. La Plata -34.643013 -58.422844   \n354  348  231 - Margariños Cervantes -34.610481 -58.474369   \n\n                     direccion  \n0         925 Yatay& Humahuaca  \n1      Av. Costa Salguero 1222  \n2      Av. Del Libertador 3899  \n3        Av. de los Ombúes 300  \n4            Acevedo y Padilla  \n..                         ...  \n350               Viamonte 555  \n351               Gavilán 1200  \n352       Av. Carlos Calvo 513  \n353          Av. La Plata 2400  \n354  2465 Margariños Cervantes  \n\n[355 rows x 5 columns]",
      "text/html": "<div>\n<style scoped>\n    .dataframe tbody tr th:only-of-type {\n        vertical-align: middle;\n    }\n\n    .dataframe tbody tr th {\n        vertical-align: top;\n    }\n\n    .dataframe thead th {\n        text-align: right;\n    }\n</style>\n<table border=\"1\" class=\"dataframe\">\n  <thead>\n    <tr style=\"text-align: right;\">\n      <th></th>\n      <th>id</th>\n      <th>nombre</th>\n      <th>latitud</th>\n      <th>longitud</th>\n      <th>direccion</th>\n    </tr>\n  </thead>\n  <tbody>\n    <tr>\n      <th>0</th>\n      <td>121</td>\n      <td>121 - YATAY</td>\n      <td>-34.601173</td>\n      <td>-58.428509</td>\n      <td>925 Yatay&amp; Humahuaca</td>\n    </tr>\n    <tr>\n      <th>1</th>\n      <td>506</td>\n      <td>040 - PARQUE SALGUERO</td>\n      <td>-34.569435</td>\n      <td>-58.399368</td>\n      <td>Av. Costa Salguero 1222</td>\n    </tr>\n    <tr>\n      <th>2</th>\n      <td>516</td>\n      <td>368 - PLAZA DE LA SHOÁ</td>\n      <td>-34.570999</td>\n      <td>-58.423347</td>\n      <td>Av. Del Libertador 3899</td>\n    </tr>\n    <tr>\n      <th>3</th>\n      <td>379</td>\n      <td>390 - De Los Ombues</td>\n      <td>-34.560200</td>\n      <td>-58.428101</td>\n      <td>Av. de los Ombúes 300</td>\n    </tr>\n    <tr>\n      <th>4</th>\n      <td>213</td>\n      <td>136 - Acevedo</td>\n      <td>-34.599659</td>\n      <td>-58.442684</td>\n      <td>Acevedo y Padilla</td>\n    </tr>\n    <tr>\n      <th>...</th>\n      <td>...</td>\n      <td>...</td>\n      <td>...</td>\n      <td>...</td>\n      <td>...</td>\n    </tr>\n    <tr>\n      <th>350</th>\n      <td>63</td>\n      <td>063 - Reconquista</td>\n      <td>-34.599777</td>\n      <td>-58.374687</td>\n      <td>Viamonte 555</td>\n    </tr>\n    <tr>\n      <th>351</th>\n      <td>381</td>\n      <td>274 - Gavilán</td>\n      <td>-34.616245</td>\n      <td>-58.465885</td>\n      <td>Gavilán 1200</td>\n    </tr>\n    <tr>\n      <th>352</th>\n      <td>117</td>\n      <td>117 - HUMBERTO 1°</td>\n      <td>-34.619553</td>\n      <td>-58.373158</td>\n      <td>Av. Carlos Calvo 513</td>\n    </tr>\n    <tr>\n      <th>353</th>\n      <td>425</td>\n      <td>394 - Av. La Plata</td>\n      <td>-34.643013</td>\n      <td>-58.422844</td>\n      <td>Av. La Plata 2400</td>\n    </tr>\n    <tr>\n      <th>354</th>\n      <td>348</td>\n      <td>231 - Margariños Cervantes</td>\n      <td>-34.610481</td>\n      <td>-58.474369</td>\n      <td>2465 Margariños Cervantes</td>\n    </tr>\n  </tbody>\n</table>\n<p>355 rows × 5 columns</p>\n</div>"
     },
     "execution_count": 31,
     "metadata": {},
     "output_type": "execute_result"
    }
   ],
   "source": [
    "duckdb.execute('DROP TABLE IF EXISTS estaciones')\n",
    "duckdb.execute(\"\"\"\n",
    "CREATE TABLE estaciones (\n",
    "    id INTEGER,\n",
    "    nombre VARCHAR,\n",
    "    latitud FLOAT,\n",
    "    longitud FLOAT,\n",
    "    direccion VARCHAR\n",
    ") \n",
    "\"\"\")\n",
    "duckdb.execute(\"\"\"\n",
    "INSERT INTO estaciones\n",
    "SELECT DISTINCT CAST(REPLACE(id, 'BAEcobici', '') AS INTEGER) AS id, nombre, latitud, longitud, direccion\n",
    "FROM (\n",
    "    SELECT id_estacion_destino AS id, nombre_estacion_destino AS nombre, lat_estacion_destino AS latitud, long_estacion_destino AS longitud, direccion_estacion_destino AS direccion\n",
    "    FROM trips_2024\n",
    "    UNION\n",
    "    SELECT id_estacion_origen AS id, nombre_estacion_origen AS nombre, lat_estacion_origen AS latitud, long_estacion_origen AS longitud, direccion_estacion_origen AS direccion\n",
    "    FROM trips_2024\n",
    ") AS subquery\n",
    "\"\"\")\n",
    "duckdb.sql(\"SELECT * FROM estaciones\").df()\n"
   ],
   "metadata": {
    "collapsed": false,
    "ExecuteTime": {
     "end_time": "2024-09-02T15:42:02.401119Z",
     "start_time": "2024-09-02T15:42:02.295312Z"
    }
   },
   "id": "b0bba68e681226cf",
   "execution_count": 31
  },
  {
   "cell_type": "code",
   "outputs": [
    {
     "data": {
      "text/plain": "<duckdb.duckdb.DuckDBPyConnection at 0x1032d1a70>"
     },
     "execution_count": 33,
     "metadata": {},
     "output_type": "execute_result"
    }
   ],
   "source": [
    "# Now we drop redundant columns from trips_2024\n",
    "duckdb.execute(\"ALTER TABLE trips_2024 DROP COLUMN IF EXISTS nombre_estacion_origen\")\n",
    "duckdb.execute(\"ALTER TABLE trips_2024 DROP COLUMN  IF EXISTS lat_estacion_origen\")\n",
    "duckdb.execute(\"ALTER TABLE trips_2024 DROP COLUMN  IF EXISTS long_estacion_origen\")\n",
    "duckdb.execute(\"ALTER TABLE trips_2024 DROP COLUMN  IF EXISTS direccion_estacion_origen\")\n",
    "duckdb.execute(\"ALTER TABLE trips_2024 DROP COLUMN  IF EXISTS nombre_estacion_destino\")\n",
    "duckdb.execute(\"ALTER TABLE trips_2024 DROP COLUMN  IF EXISTS lat_estacion_destino\")\n",
    "duckdb.execute(\"ALTER TABLE trips_2024 DROP COLUMN  IF EXISTS long_estacion_destino\")\n",
    "duckdb.execute(\"ALTER TABLE trips_2024 DROP COLUMN  IF EXISTS direccion_estacion_destino\")\n"
   ],
   "metadata": {
    "collapsed": false,
    "ExecuteTime": {
     "end_time": "2024-09-02T15:46:10.855683Z",
     "start_time": "2024-09-02T15:46:10.825595Z"
    }
   },
   "id": "beb1c72a8096d806",
   "execution_count": 33
  },
  {
   "cell_type": "code",
   "outputs": [],
   "source": [],
   "metadata": {
    "collapsed": false
   },
   "id": "55dbcfb3ed0da1f6"
  }
 ],
 "metadata": {
  "kernelspec": {
   "display_name": "Python 3",
   "language": "python",
   "name": "python3"
  },
  "language_info": {
   "codemirror_mode": {
    "name": "ipython",
    "version": 2
   },
   "file_extension": ".py",
   "mimetype": "text/x-python",
   "name": "python",
   "nbconvert_exporter": "python",
   "pygments_lexer": "ipython2",
   "version": "2.7.6"
  }
 },
 "nbformat": 4,
 "nbformat_minor": 5
}
